{
 "cells": [
  {
   "cell_type": "code",
   "execution_count": 175,
   "metadata": {
    "collapsed": true
   },
   "outputs": [],
   "source": [
    "import numpy as np\n",
    "import random\n",
    "random.seed(42)"
   ]
  },
  {
   "cell_type": "code",
   "execution_count": 203,
   "metadata": {
    "collapsed": false
   },
   "outputs": [
    {
     "name": "stdout",
     "output_type": "stream",
     "text": [
      "4\n",
      "1\n",
      "2\n",
      "1\n",
      "2\n",
      "4\n",
      "3\n",
      "4\n",
      "4\n",
      "4\n",
      "2\n",
      "[[-1  2  9  3 -1 -1]\n",
      " [ 6 10 -1 -1 -1 -1]\n",
      " [ 1 -1 -1 -1 -1 -1]\n",
      " [-1 -1 -1 -1 -1 -1]]\n",
      "\n",
      "[[-1  4  5  6 -1 -1]\n",
      " [ 2  3 -1 -1 -1 -1]\n",
      " [ 1 -1 -1 -1 -1 -1]\n",
      " [-1 -1 -1 -1 -1 -1]]\n"
     ]
    }
   ],
   "source": [
    "def sumTuple(t1,t2):\n",
    "    return (t1[0]+t2[0],t1[1]+t2[1])\n",
    "\n",
    "#Gera uma direcao aleatoria\n",
    "def generateRamdomDirection(pos):\n",
    "    d = 0\n",
    "    r = (0,0)\n",
    "    while not canGo(sumTuple(pos,r)):\n",
    "        d = random.randint(1, 4)\n",
    "        if d==1:\n",
    "            r = (-1,0)\n",
    "        elif d==1:\n",
    "            r = (1,0)\n",
    "        elif d==2:\n",
    "            r = (0,1)\n",
    "        elif d==3:\n",
    "            r = (0,-1)\n",
    "    return r\n",
    "\n",
    "#Gera pega uma sala aleatoriamente sem repetir salas\n",
    "def generateRamdomRoom():\n",
    "    s = random.choice(salasAleatorias)\n",
    "    salasAleatorias.remove(s)\n",
    "    return s\n",
    "\n",
    "#Verifica se pode ir para uma direcao\n",
    "def canGo(pos):\n",
    "    if pos[0]<0 or pos[1]<0:\n",
    "        return False;\n",
    "    if pos[0]>=matDim[0] or pos[1]>=matDim[1]:\n",
    "        return False;\n",
    "    if mat[pos]!=-1:\n",
    "        return False\n",
    "    return True\n",
    "\n",
    "#Verifica se chegou numa posicao sem saida\n",
    "def isBlocked(pos):\n",
    "    t = False\n",
    "    t = t or canGo((pos[0]+1,pos[1]))\n",
    "    t = t or canGo((pos[0]-1,pos[1]))\n",
    "    t = t or canGo((pos[0],pos[1]-1))\n",
    "    t = t or canGo((pos[0],pos[1]+1))\n",
    "    return not t\n",
    "\n",
    "nroSalas = 6;\n",
    "matDim = (4,6)\n",
    "mat = -1*np.ones(matDim,dtype=np.uint8)\n",
    "salaPos = (2,0)\n",
    "salasPreDefinidas = [1,False,False,2,False,3,4,False]\n",
    "salasAleatorias = [5,6,7,8,9,10]\n",
    "caminho = []\n",
    "while len(caminho)<nroSalas:\n",
    "    caminho = []\n",
    "    for i in range(nroSalas):\n",
    "        if salasPreDefinidas[i]==False:\n",
    "            salasPreDefinidas[i] = generateRamdomRoom()\n",
    "\n",
    "        if isBlocked(salaPos):\n",
    "            break\n",
    "\n",
    "        direction = generateRamdomDirection(salaPos)\n",
    "        salaPos = sumTuple(salaPos,direction)\n",
    "        mat[salaPos] = salasPreDefinidas[i]    \n",
    "\n",
    "        caminho.append(salaPos)\n",
    "        \n",
    "print(mat)\n",
    "#print(caminho)\n",
    "\n",
    "print()\n",
    "mat = -1*np.ones(matDim,dtype=np.uint8)\n",
    "i = 1;\n",
    "for c in caminho:\n",
    "    mat[c] = i\n",
    "    i += 1\n",
    "print(mat)\n"
   ]
  },
  {
   "cell_type": "code",
   "execution_count": null,
   "metadata": {
    "collapsed": false
   },
   "outputs": [],
   "source": []
  },
  {
   "cell_type": "code",
   "execution_count": 81,
   "metadata": {
    "collapsed": true
   },
   "outputs": [],
   "source": []
  },
  {
   "cell_type": "code",
   "execution_count": 88,
   "metadata": {
    "collapsed": true
   },
   "outputs": [],
   "source": []
  },
  {
   "cell_type": "code",
   "execution_count": 77,
   "metadata": {
    "collapsed": false
   },
   "outputs": [],
   "source": []
  },
  {
   "cell_type": "code",
   "execution_count": 100,
   "metadata": {
    "collapsed": false
   },
   "outputs": [],
   "source": []
  },
  {
   "cell_type": "code",
   "execution_count": null,
   "metadata": {
    "collapsed": true
   },
   "outputs": [],
   "source": []
  },
  {
   "cell_type": "code",
   "execution_count": 46,
   "metadata": {
    "collapsed": false
   },
   "outputs": [
    {
     "data": {
      "text/plain": [
       "array([4, 6])"
      ]
     },
     "execution_count": 46,
     "metadata": {},
     "output_type": "execute_result"
    }
   ],
   "source": []
  },
  {
   "cell_type": "code",
   "execution_count": null,
   "metadata": {
    "collapsed": true
   },
   "outputs": [],
   "source": []
  }
 ],
 "metadata": {
  "kernelspec": {
   "display_name": "Python 3",
   "language": "python",
   "name": "python3"
  },
  "language_info": {
   "codemirror_mode": {
    "name": "ipython",
    "version": 3
   },
   "file_extension": ".py",
   "mimetype": "text/x-python",
   "name": "python",
   "nbconvert_exporter": "python",
   "pygments_lexer": "ipython3",
   "version": "3.6.0"
  }
 },
 "nbformat": 4,
 "nbformat_minor": 2
}
